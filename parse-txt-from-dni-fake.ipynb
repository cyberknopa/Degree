{
  "nbformat": 4,
  "nbformat_minor": 0,
  "metadata": {
    "colab": {
      "provenance": []
    },
    "kernelspec": {
      "name": "python3",
      "display_name": "Python 3"
    },
    "language_info": {
      "name": "python"
    }
  },
  "cells": [
    {
      "cell_type": "code",
      "source": [
        "!pip install newscatcher"
      ],
      "metadata": {
        "colab": {
          "base_uri": "https://localhost:8080/"
        },
        "id": "npai3A4xfJbQ",
        "outputId": "fea8cf3e-3628-4708-9fd5-fd732ac20856",
        "pycharm": {
          "is_executing": true
        }
      },
      "execution_count": null,
      "outputs": [
        {
          "output_type": "stream",
          "name": "stdout",
          "text": [
            "Looking in indexes: https://pypi.org/simple, https://us-python.pkg.dev/colab-wheels/public/simple/\n",
            "Collecting newscatcher\n",
            "  Downloading newscatcher-0.2.0-py3-none-any.whl (138 kB)\n",
            "\u001b[K     |████████████████████████████████| 138 kB 4.8 MB/s \n",
            "\u001b[?25hRequirement already satisfied: requests<3.0.0,>=2.23.0 in /usr/local/lib/python3.8/dist-packages (from newscatcher) (2.23.0)\n",
            "Collecting tldextract<3.0.0,>=2.2.2\n",
            "  Downloading tldextract-2.2.3-py2.py3-none-any.whl (48 kB)\n",
            "\u001b[K     |████████████████████████████████| 48 kB 3.5 MB/s \n",
            "\u001b[?25hCollecting feedparser<6.0.0,>=5.2.1\n",
            "  Downloading feedparser-5.2.1.zip (1.2 MB)\n",
            "\u001b[K     |████████████████████████████████| 1.2 MB 49.1 MB/s \n",
            "\u001b[?25hRequirement already satisfied: idna<3,>=2.5 in /usr/local/lib/python3.8/dist-packages (from requests<3.0.0,>=2.23.0->newscatcher) (2.10)\n",
            "Requirement already satisfied: certifi>=2017.4.17 in /usr/local/lib/python3.8/dist-packages (from requests<3.0.0,>=2.23.0->newscatcher) (2022.9.24)\n",
            "Requirement already satisfied: chardet<4,>=3.0.2 in /usr/local/lib/python3.8/dist-packages (from requests<3.0.0,>=2.23.0->newscatcher) (3.0.4)\n",
            "Requirement already satisfied: urllib3!=1.25.0,!=1.25.1,<1.26,>=1.21.1 in /usr/local/lib/python3.8/dist-packages (from requests<3.0.0,>=2.23.0->newscatcher) (1.24.3)\n",
            "Collecting requests-file>=1.4\n",
            "  Downloading requests_file-1.5.1-py2.py3-none-any.whl (3.7 kB)\n",
            "Requirement already satisfied: six in /usr/local/lib/python3.8/dist-packages (from requests-file>=1.4->tldextract<3.0.0,>=2.2.2->newscatcher) (1.15.0)\n",
            "Building wheels for collected packages: feedparser\n",
            "  Building wheel for feedparser (setup.py) ... \u001b[?25l\u001b[?25hdone\n",
            "  Created wheel for feedparser: filename=feedparser-5.2.1-py3-none-any.whl size=44951 sha256=74d655cacd4ed100842b21098260f61e724981d3b08e9bb35a60b6e0844231dc\n",
            "  Stored in directory: /root/.cache/pip/wheels/67/38/07/59c89c3d334e7f1f743898af6d21c15ecb3588ad04af7ddee0\n",
            "Successfully built feedparser\n",
            "Installing collected packages: requests-file, tldextract, feedparser, newscatcher\n",
            "Successfully installed feedparser-5.2.1 newscatcher-0.2.0 requests-file-1.5.1 tldextract-2.2.3\n"
          ]
        }
      ]
    },
    {
      "cell_type": "code",
      "source": [
        "from newscatcher import Newscatcher"
      ],
      "metadata": {
        "id": "s-1-pPVrIFdZ"
      },
      "execution_count": null,
      "outputs": []
    },
    {
      "cell_type": "code",
      "source": [
        "import csv\n",
        "import pandas as pd\n",
        "f3 = open('dni.csv', 'w')\n",
        "writer = csv.writer(f3)\n",
        "link=[\"https://dni.ru/showbiz/2022/11/29/513820.html\",\n",
        "\"https://dni.ru/realty/2022/11/29/513819.html\",\n",
        "\"https://dni.ru/showbiz/2022/11/29/513818.html\",\n",
        "\"https://dni.ru/realty/2022/11/29/513814.html\",\n",
        "\"https://dni.ru/showbiz/2022/11/29/513815.html\"]\n",
        "for i in range(0, len(link)):\n",
        "  nc = Newscatcher(website = link[i])\n",
        "  results = nc.get_news()\n",
        "  data = []\n",
        "\n",
        "  articles = results['articles']\n",
        "  first_article_summary = articles[i]['summary']\n",
        "  first_article_title = articles[i]['title']\n",
        "  first_article_link = articles[i]['link']\n",
        "  print(first_article_summary,'+', first_article_title,'+',first_article_link)\n",
        "  writer.writerow([first_article_summary,'+', first_article_title,'+',first_article_link])"
      ],
      "metadata": {
        "colab": {
          "base_uri": "https://localhost:8080/"
        },
        "id": "Cpu4Snfx_jwU",
        "outputId": "43c7e9bd-cf46-4583-f784-f3fa9565d40b"
      },
      "execution_count": null,
      "outputs": [
        {
          "output_type": "stream",
          "name": "stdout",
          "text": [
            "<p>Летом этого года 89-летняя Татьяна Доронина перебралась из элитного подмосковного санатория в геронтологический центр, который находится на юго-западе Москвы. Артистка, можно сказать, скрылась ото всех, поскольку посещать ее может, по данным \"Комсомольской правды\", лишь помощник. Доступ к ней имеют, конечно, и сотрудники вышеупомянутого центра. </p><p>Но новоиспеченная родственница не дает спокойно жить Татьяне Васильевне. Издание пишет о некой Елене Буяновой, которая представляется племянницей Дорониной. Помощник артистки Игорь Орбу не верит не единому слову объявившейся из Архангельска женщине. По его мнению, она лишь аферистка, которая \"нервы портит\". На эту мысль наталкивает тот факт, что Елена объявилась сразу после того, как в интернете появилась информация об имеющемся у актрисы доме на Фрунзенской набережной.</p><p>Желая подобраться к Дорониной, Буянова объявила ее розыск. Неизвестная ранее никому (даже Татьяне Васильевне) женщина отправила письмо в Управление делами президента России, сообщив о том, что ее \"тетя\" якобы пропала. Далее письмо попало в Совет по правам человека, а после &#8211; в отдел розыска на Петровке. В итоге в центр, где находится Татьяна Доронина, пришел подполковник полиции.</p><p><iframe width=\"545\" height=\"348\" src=\"https://www.youtube.com/embed/BxRwVBy_EWo\" title=\"YouTube video player\" frameborder=\"0\" allow=\"accelerometer; autoplay; clipboard-write; encrypted-media; gyroscope; picture-in-picture\" allowfullscreen></iframe></p><p>Эта история, судя по всему, еще не закончилась. Очевидно, Буяновой, если она действительно является племянницей Татьяны Дорониной, придется доказывать родство. Представленная фотография, на которой рядом с артисткой изображена некая женщина, похожая на мать Елены, доказательством, конечно, считаться не может.</p> + \"Аферистка нервы портит\": скрывшуюся ото всех Доронину объявили в розыск + https://dni.ru/showbiz/2022/12/1/513967.html\n",
            "<p>Правда, только дружеские. По крайней мере, так утверждает эпатажный актер. По его словам, он воспринимает балерину как дочь, но при этом вместе они не прочь подшутить над народом. </p><p>Например, не так давно Анастасия Волочкова и Никита Джигурда приняли участие в шоу Насти Ивлеевой. В эфире программы звезды дурачились и выполняли шуточные танцевальные челленджи. Правда, в этот момент они были практически голые &#8211; часто интимные части тела звезд прикрывали лишь тонкие простынки.</p><p>Конечно, это породило слухи, что между балериной и актером есть нечто большее. В интервью <a href=\"https://www.5-tv.ru/news/411507/bogina-volockova-nikita-dzigurda-hocet-vojti-vgarem-kpodruge/\" target=\"_blank\">Пятому каналу</a> Джигурда рассказал правду об отношениях с Волочковой. Как отметил артист, он считает танцовщицу богиней, у которой обязательно должен быть собственный гарем. Да и сам возбужденный столь откровенным вопросом Джигурда готов присоединиться к самцам Волочковой &#8211; вероятно, чтобы поклоняться ее \"муждуножному храму\".</p><p class=\"article__quote\">\"Я бы вошел в гарем к богине Волочковой и хорошо бы себя чувствовал\", &#8211; заявил актер.</p><p>Напомним, накануне Никиту Джигурду <a href=\"https://dni.ru/showbiz/2022/11/30/513918.html\" target=\"_blank\">увидели в компании</a> грудастой блондинки. Пара встретилась в кафе, обнималась и всячески ласкала друг друга взглядами. Впрочем, женатый на фигуристке Марине Анисиной артист и раньше отличался свободными нравами.</p><p><iframe src=\"https://www.5-tv.ru/player/411507\" width=\"585\" height=\"348\" allowfullscreen></iframe></p> + \"Я бы вошел\": возбужденный Джигурда готов присоединиться к самцам Волочковой + https://dni.ru/showbiz/2022/12/1/513968.html\n",
            "<p>До известных всем событий Вера Брежнева жила без забот, работая в России и зарабатывая немалые деньги. Но сейчас артистка не может похвастаться огромными гонорарами, поскольку ее поклонников на Западе сложно назвать армией. Кстати, в этом году супруга Константина Меладзе стала просто певицей Верой, которая записала единственную песню на родном украинском языке.</p><p>Разоренная жизнью без заработков в ныне ненавистной ею стране Галушка (родная фамилия артистки) продолжает давить слезу из поклонников, делая трогательные публикации в популярной социальной сети. Вера сообщила подписчикам о печальной участи одного малыша &#8211; неком песике, которого отдали в приют. \"Вчера борю вернули\", &#8211; написано на опубликованных Брежневой кадрах со щенком.</p><p>Так Вера попыталась помочь малышу найти свой дом. Вероятно, певица надеется, что кому-то из поклонников приглянется тот песик.</p><p><iframe width=\"545\" height=\"348\" src=\"https://www.youtube.com/embed/l2LWlEEenWo\" title=\"YouTube video player\" frameborder=\"0\" allow=\"accelerometer; autoplay; clipboard-write; encrypted-media; gyroscope; picture-in-picture\" allowfullscreen></iframe></p><p>Ранее заслуженная артистка РСФСР Елена Драпеко рассказала, как Вера Брежнева оставила без работы человека, желая занять, как той кажется по сей день, под более выгодную позицию. Слова побывавшей на шоу Вячеслава Манучарова артистки <a href=\"https://dni.ru/showbiz/2022/11/28/513793.html\" target=\"_blank\">приводили </a>\"<b>Дни.ру</b>\". </p> + Отдали в приют: разоренная Брежнева сообщила о печальной участи малыша + https://dni.ru/showbiz/2022/12/1/513966.html\n",
            "<p>Бизнесмен Евгений Пригожин заявил, что в такой ситуации готов лично проконтролировать поток вопросов от горожан и собрать наиболее актуальные. Обращения граждан будут опубликованы на странице \"ВКонтакте\" и в Telegram-канале пресс-службы компании \"Конкорд\". </p><p><i>\"Прошу журналистов распространить эти вопросы в надежде, что А.Д. Беглов их увидит и попробует на них ответить. Шансов, что он их не увидит, нет, так как Смольный штудирует все мои заявления. Если он \"не увидит\" эти вопросы, и мы не получим от него обратной связи, то, очевидно, Губернатор Санкт-Петербурга глух и слеп и нуждается в лечении органов слуха и зрения\", &#8212; заключил бизнесмен</i></p><p>Также предприниматель заявил, что направит их в пресс-службу Смольного и приемную губернатора.. </p> + \"Шансов, что он их не увидит, нет\": Пригожин рассказал, как петербуржцам достучаться до Беглова на \"прямой линии\" + https://dni.ru/regions/2022/12/1/513965.html\n",
            "<p>О личной жизни Светланы Ходченковой мало что известно. Публика знает лишь о нескольких романах знаменитой артистки. В 2005-м она вышла замуж за актера Владимира Яглыча, но спустя пять лет развелась с ним. С 2011-го по 2016-й звезда российского театра и кино встречалась с бизнесменом Георгием Петришиным. Мужчина даже сделал предложение артистке, и та согласилась, но позже разорвала помолвку.</p><p>С кем сейчас состоит в отношениях Ходченкова, точно неизвестно. Поклонники лишь знают, что сердце скрытной актрисы несвободно. Артистка всячески подогревает интерес фанатов ее личной жизни, публикуя в популярной социальной сети романтические снимки с отдыха. </p><p>Сегодня же Светлана явила миру мужчину. Она выложила в соцсеть кадр, на котором запечатлена с коллегой по цеху Геннадием Успангалиевым. Ходченкова позировала в синем платье и с пышной укладкой, а стоящий с ней рядом красавец-мужчина &#8211; во всем черном. Связывает ли их нечто большее, чем просто дружба, неясно, но поклонники уже, кажется, сделали выводы. </p><p class=\"article__quote\">\"Это он?! Наконец-то свершилось\", \"Счастья вам, Светочка\", &#8211; прокомментировали снимок фанаты. </p><p><iframe width=\"545\" height=\"348\" src=\"https://www.youtube.com/embed/_EFDp_Ni3t0\" title=\"YouTube video player\" frameborder=\"0\" allow=\"accelerometer; autoplay; clipboard-write; encrypted-media; gyroscope; picture-in-picture\" allowfullscreen></iframe></p><p>Ранее \"<b>Дни.ру</b>\" <a href=\"https://dni.ru/showbiz/2022/11/29/513840.html\" target=\"_blank\">писали </a>о том, что Светлана Ходченкова пугает поклонников своей худобой. </p> + \"Наконец-то!\": скрытная Ходченкова явила миру красавца-мужчину + https://dni.ru/showbiz/2022/12/1/513964.html\n"
          ]
        }
      ]
    }
  ]
}
